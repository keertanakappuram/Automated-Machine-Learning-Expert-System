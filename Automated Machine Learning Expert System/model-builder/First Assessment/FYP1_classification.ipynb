{
  "nbformat": 4,
  "nbformat_minor": 0,
  "metadata": {
    "colab": {
      "name": "FYP1-classification.ipynb",
      "provenance": [],
      "collapsed_sections": []
    },
    "kernelspec": {
      "display_name": "Python 3",
      "name": "python3"
    },
    "language_info": {
      "name": "python"
    }
  },
  "cells": [
    {
      "cell_type": "code",
      "metadata": {
        "id": "DR_LOOuq7xqj"
      },
      "source": [
        "# Importing the libraries \n",
        "import numpy as np \n",
        "import matplotlib.pyplot as plt \n",
        "import pandas as pd"
      ],
      "execution_count": null,
      "outputs": []
    },
    {
      "cell_type": "code",
      "metadata": {
        "id": "9a0Gu_ie75My",
        "colab": {
          "base_uri": "https://localhost:8080/"
        },
        "outputId": "a42df1d2-a5bd-4016-fee4-d2c54ac14702"
      },
      "source": [
        "# Importing the dataset \n",
        "dataset = pd.read_csv('Social_Network_Ads.csv')\n",
        "X = dataset.iloc[:, [2, 3]].values \n",
        "y = dataset.iloc[:, 4].values\n",
        "print(dataset.head())"
      ],
      "execution_count": null,
      "outputs": [
        {
          "output_type": "stream",
          "text": [
            "    User ID  Gender  Age  EstimatedSalary  Purchased\n",
            "0  15624510    Male   19            19000          0\n",
            "1  15810944    Male   35            20000          0\n",
            "2  15668575  Female   26            43000          0\n",
            "3  15603246  Female   27            57000          0\n",
            "4  15804002    Male   19            76000          0\n"
          ],
          "name": "stdout"
        }
      ]
    },
    {
      "cell_type": "code",
      "metadata": {
        "id": "ADGUQ8Gf75PT"
      },
      "source": [
        "# Splitting the dataset into Training set and Test set \n",
        "from sklearn.model_selection import train_test_split \n",
        "X_train, X_test, y_train, y_test = train_test_split(X, y, test_size = 0.25)"
      ],
      "execution_count": null,
      "outputs": []
    },
    {
      "cell_type": "code",
      "metadata": {
        "id": "4Hvb4MaH75R8"
      },
      "source": [
        "# Feature Scaling \n",
        "from sklearn.preprocessing import StandardScaler \n",
        "sc = StandardScaler() \n",
        "X_train = sc.fit_transform(X_train) \n",
        "X_test = sc.transform(X_test)"
      ],
      "execution_count": null,
      "outputs": []
    },
    {
      "cell_type": "code",
      "metadata": {
        "colab": {
          "base_uri": "https://localhost:8080/"
        },
        "id": "BBrUJWrG75Uu",
        "outputId": "928ed78f-d1c6-42be-f2c3-32881c193a45"
      },
      "source": [
        "from sklearn.svm import SVC \n",
        "from sklearn.linear_model import LogisticRegression\n",
        "from sklearn.tree import DecisionTreeClassifier\n",
        "from sklearn.ensemble import RandomForestClassifier\n",
        "\n",
        "classifier1 = SVC(kernel = 'rbf', random_state = 0) \n",
        "classifier1.fit(X_train, y_train) \n",
        "classifier2 = LogisticRegression(random_state = 0)\n",
        "classifier2.fit(X_train, y_train)\n",
        "classifier3 = DecisionTreeClassifier(criterion='entropy', random_state=0)\n",
        "classifier3.fit(X_train, y_train)\n",
        "classifier4 = RandomForestClassifier(n_estimators = 10, criterion = 'entropy', random_state = 0)\n",
        "classifier4.fit(X_train, y_train)\n",
        "# Applying k-Fold Cross Validation \n",
        "from sklearn.model_selection import cross_val_score \n",
        "accuracies1 = cross_val_score(estimator = classifier1, X = X_train, y = y_train, cv = 10) \n",
        "Mean1=accuracies1.mean() \n",
        "accuracies2 = cross_val_score(estimator = classifier2, X = X_train, y = y_train, cv = 10) \n",
        "Mean2=accuracies2.mean() \n",
        "accuracies3 = cross_val_score(estimator = classifier3, X = X_train, y = y_train, cv = 10) \n",
        "Mean3=accuracies3.mean() \n",
        "accuracies4 = cross_val_score(estimator = classifier4, X = X_train, y = y_train, cv = 10) \n",
        "Mean4=accuracies4.mean() \n",
        "print('Accuracies of all algorithms:',Mean1,\",\",Mean2,\",\",Mean3,\",\",Mean4)\n",
        "Final=max(Mean1,Mean2,Mean3,Mean4)\n",
        "# Predicting test results\n",
        "y_pred1 = classifier1.predict(X_test)\n",
        "y_pred2 = classifier2.predict(X_test)\n",
        "y_pred3 = classifier3.predict(X_test)\n",
        "y_pred4 = classifier4.predict(X_test)\n",
        "F_list=[[Mean1,y_pred1,\"SVC\"],[Mean2,y_pred2,\"Logistic Regression\"],[Mean3,y_pred3,\"Decision Tree\"],[Mean4,y_pred4,\"Random Forest\"]]\n",
        "for i in range(4):\n",
        "  if(Final==F_list[i][0]):\n",
        "    print(\"Highest accuracy:\",Final,\"||\",\"Algorithm chosen:\",F_list[i][2])\n",
        "for i in range(4):\n",
        "  if(Final==F_list[i][0]):\n",
        "    print(\"Predicted test case values:\",F_list[i][1])"
      ],
      "execution_count": null,
      "outputs": [
        {
          "output_type": "stream",
          "text": [
            "Accuracies of all algorithms: 0.93 , 0.8733333333333334 , 0.8966666666666667 , 0.8966666666666668\n",
            "Highest accuracy: 0.93 || Algorithm chosen: SVC\n",
            "Predicted test case values: [0 1 1 0 1 0 0 0 0 0 0 1 0 1 0 0 0 0 0 0 0 1 0 0 1 0 1 0 1 0 0 1 0 0 1 0 0\n",
            " 0 0 1 1 0 0 1 0 1 0 1 1 0 1 0 1 0 1 0 0 1 0 1 1 0 1 0 1 0 0 1 1 1 0 0 1 0\n",
            " 0 1 0 0 0 0 0 1 0 0 0 0 1 0 1 1 0 0 0 0 0 0 0 0 0 1]\n"
          ],
          "name": "stdout"
        }
      ]
    }
  ]
}