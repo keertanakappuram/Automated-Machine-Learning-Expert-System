{
  "nbformat": 4,
  "nbformat_minor": 0,
  "metadata": {
    "colab": {
      "name": "FYP1-regression.ipynb",
      "provenance": []
    },
    "kernelspec": {
      "name": "python3",
      "display_name": "Python 3"
    },
    "language_info": {
      "name": "python"
    }
  },
  "cells": [
    {
      "cell_type": "code",
      "metadata": {
        "id": "4OuNGVTY-dYS"
      },
      "source": [
        "# Importing the libraries \n",
        "import numpy as np \n",
        "import matplotlib.pyplot as plt \n",
        "import pandas as pd"
      ],
      "execution_count": null,
      "outputs": []
    },
    {
      "cell_type": "code",
      "metadata": {
        "id": "9oTZSEKE-oTa"
      },
      "source": [
        "# Importing the dataset \n",
        "housing = pd.read_csv('housing.csv')\n",
        "X = housing.iloc[:, [2, 7]].values \n",
        "y = housing.iloc[:, 8].values"
      ],
      "execution_count": null,
      "outputs": []
    },
    {
      "cell_type": "code",
      "metadata": {
        "id": "kmQjuGV8-33i"
      },
      "source": [
        "from sklearn.model_selection import train_test_split\n",
        "X_train, X_test, y_train, y_test = train_test_split(X, y, test_size = 0.25)"
      ],
      "execution_count": null,
      "outputs": []
    },
    {
      "cell_type": "code",
      "metadata": {
        "id": "XXuWj_lNVsZj"
      },
      "source": [
        "# Feature Scaling \n",
        "from sklearn.preprocessing import StandardScaler \n",
        "sc = StandardScaler() \n",
        "X_train = sc.fit_transform(X_train) \n",
        "X_test = sc.transform(X_test)"
      ],
      "execution_count": null,
      "outputs": []
    },
    {
      "cell_type": "code",
      "metadata": {
        "id": "2P-iPZEFVxpb"
      },
      "source": [
        "from sklearn.linear_model import LinearRegression\n",
        "from sklearn.ensemble import RandomForestRegressor\n",
        "from sklearn.svm import SVR\n",
        "from sklearn.tree import DecisionTreeRegressor \n",
        "regressor1 = LinearRegression() \n",
        "regressor1.fit(np.array(X_train), y_train) \n",
        "y_pred1 = regressor1.predict(np.array(X_test)) \n",
        "regressor2 = RandomForestRegressor(random_state = 0)\n",
        "regressor2.fit(np.array(X_train), y_train) \n",
        "y_pred2 = regressor2.predict(np.array(X_test)) \n",
        "regressor3 = SVR(kernel='rbf')\n",
        "regressor3.fit(np.array(X_train), y_train) \n",
        "y_pred3 = regressor3.predict(np.array(X_test)) \n",
        "regressor4 = DecisionTreeRegressor(random_state = 0) \n",
        "regressor4.fit(np.array(X_train), y_train) \n",
        "y_pred4 = regressor4.predict(np.array(X_test)) "
      ],
      "execution_count": null,
      "outputs": []
    },
    {
      "cell_type": "code",
      "metadata": {
        "id": "qmblo1Kg-7B0",
        "colab": {
          "base_uri": "https://localhost:8080/"
        },
        "outputId": "5a326e05-baf0-4461-c9a7-9ccb5192147d"
      },
      "source": [
        "# Applying k-Fold Cross Validation \n",
        "from sklearn.model_selection import cross_val_score \n",
        "accuracies1 = cross_val_score(estimator = regressor1, X = X_train, y = y_train, cv = 10) \n",
        "Mean1=accuracies1.mean() \n",
        "accuracies2 = cross_val_score(estimator = regressor2, X = X_train, y = y_train, cv = 10) \n",
        "Mean2=accuracies2.mean() \n",
        "accuracies3 = cross_val_score(estimator = regressor3, X = X_train, y = y_train, cv = 10) \n",
        "Mean3=accuracies3.mean()\n",
        "accuracies4 = cross_val_score(estimator = regressor4, X = X_train, y = y_train, cv = 10) \n",
        "Mean4=accuracies4.mean()  \n",
        "print('Accuracies of all algorithms:',Mean1,\",\",Mean2,\",\",Mean3,\",\",Mean4)\n",
        "Final=max(Mean1,Mean2,Mean3,Mean4)\n",
        "F_list=[[Mean1,y_pred1,\"Linear Regression\"],[Mean2,y_pred2,\"Random Forest\"],[Mean3,y_pred3,\"SVR\"],[Mean4,y_pred4,\"Decision Tree\"]]\n",
        "for i in range(4):\n",
        "  if(Final==F_list[i][0]):\n",
        "    print(\"Highest accuracy:\",Final,\"||\",\"Algorithm chosen:\",F_list[i][2])\n",
        "for i in range(4):\n",
        "  if(Final==F_list[i][0]):\n",
        "    print(\"Predicted test case values:\",F_list[i][1])"
      ],
      "execution_count": null,
      "outputs": [
        {
          "output_type": "stream",
          "text": [
            "Accuracies of all algorithms: 0.5079650339073499 , 0.4281527732710231 , -0.046553492760427015 , 0.07228794412374515\n",
            "Highest accuracy: 0.5079650339073499 || Algorithm chosen: Linear Regression\n",
            "Predicted test case values: [239248.6652678  169381.36846242 222198.17443549 ... 172511.23680485\n",
            " 139176.95325994 204049.60314418]\n"
          ],
          "name": "stdout"
        }
      ]
    }
  ]
}