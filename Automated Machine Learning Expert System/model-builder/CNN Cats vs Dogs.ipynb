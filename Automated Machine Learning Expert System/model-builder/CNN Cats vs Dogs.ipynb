{
 "cells": [
  {
   "cell_type": "code",
   "execution_count": 1,
   "metadata": {},
   "outputs": [
    {
     "name": "stderr",
     "output_type": "stream",
     "text": [
      "Using TensorFlow backend.\n"
     ]
    }
   ],
   "source": [
    "from keras.models import Sequential\n",
    "from keras.layers import Convolution2D, MaxPooling2D, Flatten, Dense"
   ]
  },
  {
   "cell_type": "code",
   "execution_count": 2,
   "metadata": {},
   "outputs": [],
   "source": [
    "model = Sequential()"
   ]
  },
  {
   "cell_type": "code",
   "execution_count": 3,
   "metadata": {},
   "outputs": [],
   "source": [
    "# Add convolutional layer\n",
    "model.add(Convolution2D(32,(3,3), activation='relu', input_shape=(224,224,3)))"
   ]
  },
  {
   "cell_type": "code",
   "execution_count": 4,
   "metadata": {},
   "outputs": [],
   "source": [
    "# Add pooling layer\n",
    "model.add(MaxPooling2D(pool_size=(2,2)))"
   ]
  },
  {
   "cell_type": "code",
   "execution_count": 5,
   "metadata": {},
   "outputs": [],
   "source": [
    "# Add Flatten layer\n",
    "model.add(Flatten())"
   ]
  },
  {
   "cell_type": "code",
   "execution_count": 6,
   "metadata": {},
   "outputs": [],
   "source": [
    "# Add Dense layer\n",
    "model.add(Dense(kernel_initializer='uniform', activation='relu', units=120)) #120 = no of neurons in a layer"
   ]
  },
  {
   "cell_type": "code",
   "execution_count": 7,
   "metadata": {},
   "outputs": [],
   "source": [
    "# Add output layer\n",
    "model.add(Dense(kernel_initializer='uniform', activation='sigmoid', units=1))"
   ]
  },
  {
   "cell_type": "code",
   "execution_count": 8,
   "metadata": {},
   "outputs": [],
   "source": [
    "# Compile the model\n",
    "model.compile(optimizer='sgd', loss='binary_crossentropy', metrics=['accuracy'])"
   ]
  },
  {
   "cell_type": "code",
   "execution_count": 9,
   "metadata": {},
   "outputs": [],
   "source": [
    "from keras.preprocessing.image import ImageDataGenerator\n",
    "\n",
    "train_datagen = ImageDataGenerator(rescale=1./255,\n",
    "                                   shear_range=0.2,\n",
    "                                   zoom_range=0.2,\n",
    "                                   horizontal_flip=True)\n",
    "\n",
    "test_datagen = ImageDataGenerator(rescale=1./255)"
   ]
  },
  {
   "cell_type": "code",
   "execution_count": 10,
   "metadata": {},
   "outputs": [
    {
     "name": "stdout",
     "output_type": "stream",
     "text": [
      "Found 2035 images belonging to 2 classes.\n",
      "Found 200 images belonging to 2 classes.\n"
     ]
    }
   ],
   "source": [
    "X_train = train_datagen.flow_from_directory('./cat2dog/train/',\n",
    "                                           target_size=(224,224),\n",
    "                                           batch_size=32,\n",
    "                                           class_mode='binary')\n",
    "\n",
    "X_test = test_datagen.flow_from_directory('./cat2dog/test/',\n",
    "                                          target_size=(224,224),\n",
    "                                           batch_size=32,\n",
    "                                           class_mode='binary')"
   ]
  },
  {
   "cell_type": "code",
   "execution_count": 11,
   "metadata": {},
   "outputs": [
    {
     "name": "stdout",
     "output_type": "stream",
     "text": [
      "{'cat': 0, 'dog': 1}\n",
      "{'cat': 0, 'dog': 1}\n"
     ]
    }
   ],
   "source": [
    "print(X_train.class_indices)\n",
    "print(X_test.class_indices)"
   ]
  },
  {
   "cell_type": "code",
   "execution_count": 12,
   "metadata": {},
   "outputs": [
    {
     "name": "stdout",
     "output_type": "stream",
     "text": [
      "Epoch 1/10\n",
      "64/64 [==============================] - 34s 536ms/step - loss: 0.4272 - accuracy: 0.8123 - val_loss: 0.2741 - val_accuracy: 0.7000\n",
      "Epoch 2/10\n",
      "64/64 [==============================] - 27s 424ms/step - loss: 0.1925 - accuracy: 0.9248 - val_loss: 0.8370 - val_accuracy: 0.9000\n",
      "Epoch 3/10\n",
      "64/64 [==============================] - 28s 431ms/step - loss: 0.1696 - accuracy: 0.9499 - val_loss: 0.1009 - val_accuracy: 0.9500\n",
      "Epoch 4/10\n",
      "64/64 [==============================] - 26s 409ms/step - loss: 0.1044 - accuracy: 0.9686 - val_loss: 0.0431 - val_accuracy: 0.9900\n",
      "Epoch 5/10\n",
      "64/64 [==============================] - 26s 404ms/step - loss: 0.1067 - accuracy: 0.9646 - val_loss: 0.0061 - val_accuracy: 0.9850\n",
      "Epoch 6/10\n",
      "64/64 [==============================] - 27s 425ms/step - loss: 0.0987 - accuracy: 0.9661 - val_loss: 0.0116 - val_accuracy: 0.9850\n",
      "Epoch 7/10\n",
      "64/64 [==============================] - 27s 415ms/step - loss: 0.0934 - accuracy: 0.9661 - val_loss: 0.0082 - val_accuracy: 0.9850\n",
      "Epoch 8/10\n",
      "64/64 [==============================] - 28s 437ms/step - loss: 0.0875 - accuracy: 0.9715 - val_loss: 0.0033 - val_accuracy: 0.9700\n",
      "Epoch 9/10\n",
      "64/64 [==============================] - 26s 409ms/step - loss: 0.0777 - accuracy: 0.9720 - val_loss: 0.1744 - val_accuracy: 0.9850\n",
      "Epoch 10/10\n",
      "64/64 [==============================] - 27s 415ms/step - loss: 0.0817 - accuracy: 0.9744 - val_loss: 0.0400 - val_accuracy: 0.9850\n"
     ]
    }
   ],
   "source": [
    "history = model.fit(x=X_train, validation_data=X_test, epochs=10)"
   ]
  },
  {
   "cell_type": "code",
   "execution_count": 13,
   "metadata": {},
   "outputs": [
    {
     "data": {
      "text/plain": [
       "dict_keys(['val_loss', 'val_accuracy', 'loss', 'accuracy'])"
      ]
     },
     "execution_count": 13,
     "metadata": {},
     "output_type": "execute_result"
    }
   ],
   "source": [
    "history.history.keys()"
   ]
  },
  {
   "cell_type": "code",
   "execution_count": 14,
   "metadata": {
    "scrolled": true
   },
   "outputs": [
    {
     "data": {
      "image/png": "[encoded data removed]",
      "text/plain": [
       "<Figure size 432x288 with 1 Axes>"
      ]
     },
     "metadata": {
      "needs_background": "light"
     },
     "output_type": "display_data"
    }
   ],
   "source": [
    "import matplotlib.pyplot as plt\n",
    "plt.plot(history.history['accuracy'], label='accuracy', c='blue')\n",
    "plt.plot(history.history['val_accuracy'], label='val_accuracy', c='red')\n",
    "plt.legend()\n",
    "plt.show()"
   ]
  },
  {
   "cell_type": "code",
   "execution_count": 15,
   "metadata": {},
   "outputs": [
    {
     "data": {
      "image/png": "[encoded data removed]",
      "text/plain": [
       "<Figure size 432x288 with 1 Axes>"
      ]
     },
     "metadata": {
      "needs_background": "light"
     },
     "output_type": "display_data"
    }
   ],
   "source": [
    "plt.plot(history.history['loss'], label='loss', c='blue')\n",
    "plt.plot(history.history['val_loss'], label='val_loss', c='red')\n",
    "plt.legend()\n",
    "plt.show()"
   ]
  },
  {
   "cell_type": "code",
   "execution_count": 16,
   "metadata": {},
   "outputs": [],
   "source": [
    "model.save('cnn_model.h5')"
   ]
  },
  {
   "cell_type": "code",
   "execution_count": 1,
   "metadata": {},
   "outputs": [
    {
     "name": "stderr",
     "output_type": "stream",
     "text": [
      "Using TensorFlow backend.\n"
     ]
    }
   ],
   "source": [
    "from keras.models import load_model\n",
    "import numpy as np\n",
    "import cv2"
   ]
  },
  {
   "cell_type": "code",
   "execution_count": 2,
   "metadata": {},
   "outputs": [],
   "source": [
    "model = load_model('cnn_model.h5')\n",
    "\n",
    "from skimage.transform import resize\n",
    "\n",
    "def detect(frame):\n",
    "    try:\n",
    "        frame=resize(frame,(224,224))\n",
    "        img=np.expand_dims(frame, axis=0)\n",
    "        if(np.max(img)>1):\n",
    "            img=img/255.0\n",
    "        prediction_val = model.predict(img)\n",
    "        print('Prediction Class =',prediction_val[0][0])\n",
    "        prediction_class = model.predict_classes(img)\n",
    "        print('cat' if prediction_class[0][0]==0 else 'dog')\n",
    "        cv2.imshow(\"Image\", frame)\n",
    "        cv2.waitKey(0)\n",
    "        return\n",
    "    except AttrubuteError:\n",
    "        print('shape not found')"
   ]
  },
  {
   "cell_type": "code",
   "execution_count": 3,
   "metadata": {},
   "outputs": [
    {
     "name": "stdout",
     "output_type": "stream",
     "text": [
      "Prediction Class = 0.00029244152\n",
      "cat\n"
     ]
    }
   ],
   "source": [
    "frame=cv2.imread('./cat.jpg')\n",
    "data = detect(frame)"
   ]
  },
  {
   "cell_type": "code",
   "execution_count": 4,
   "metadata": {},
   "outputs": [
    {
     "name": "stdout",
     "output_type": "stream",
     "text": [
      "Prediction Class = 0.99984205\n",
      "dog\n"
     ]
    }
   ],
   "source": [
    "frame=cv2.imread('./dog.jpg')\n",
    "data = detect(frame)"
   ]
  }
 ],
 "metadata": {
  "kernelspec": {
   "display_name": "Python 3",
   "language": "python",
   "name": "python3"
  },
  "language_info": {
   "codemirror_mode": {
    "name": "ipython",
    "version": 3
   },
   "file_extension": ".py",
   "mimetype": "text/x-python",
   "name": "python",
   "nbconvert_exporter": "python",
   "pygments_lexer": "ipython3",
   "version": "3.7.5"
  }
 },
 "nbformat": 4,
 "nbformat_minor": 2
}
